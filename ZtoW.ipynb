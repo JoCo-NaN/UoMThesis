{
 "cells": [
  {
   "cell_type": "markdown",
   "metadata": {},
   "source": [
    "# Playing text-based games with TextWorld\n",
    "This tutorial shows how to play a text-based adventure game using TextWorld's API."
   ]
  },
  {
   "cell_type": "markdown",
   "metadata": {},
   "source": [
    "## Playing Zork1\n",
    "### Getting the game file\n",
    "First, we need a copy of `zork1.z5`."
   ]
  },
  {
   "cell_type": "code",
   "execution_count": 1,
   "metadata": {},
   "outputs": [
    {
     "name": "stdout",
     "output_type": "stream",
     "text": [
      "Downloading zork1.z5 ...\n",
      "Done.\n"
     ]
    }
   ],
   "source": [
    "!echo \"Downloading zork1.z5 ...\"\n",
    "!wget -q -N https://archive.org/download/Zork1Release88Z-machineFile/zork1.z5\n",
    "!echo \"Done.\""
   ]
  },
  {
   "cell_type": "markdown",
   "metadata": {},
   "source": [
    "### Loading the library"
   ]
  },
  {
   "cell_type": "code",
   "execution_count": 1,
   "metadata": {},
   "outputs": [],
   "source": [
    "%config Completer.use_jedi = False"
   ]
  },
  {
   "cell_type": "code",
   "execution_count": 2,
   "metadata": {},
   "outputs": [],
   "source": [
    "import textworld"
   ]
  },
  {
   "cell_type": "markdown",
   "metadata": {},
   "source": [
    "Documentation for the TextWorld API can be found at\n",
    "\n",
    "https://textworld-docs.azurewebsites.net/textworld.html"
   ]
  },
  {
   "cell_type": "markdown",
   "metadata": {},
   "source": [
    "### Starting a game"
   ]
  },
  {
   "cell_type": "code",
   "execution_count": 3,
   "metadata": {},
   "outputs": [],
   "source": [
    "env = textworld.start('./textplayer/games/acorncourt.z5')"
   ]
  },
  {
   "cell_type": "markdown",
   "metadata": {},
   "source": [
    "Here `env` is a subclass of `textworld.core.Environment`. It provides the API allowing us to interact with the text-based game parser/interpreter that is running `zork1.z5`. Here are the most important methods we can access:\n",
    "\n",
    "```python\n",
    "# Restart the game and get the initial observation/state from the game.\n",
    "game_state = env.reset()\n",
    "\n",
    "# Some games contain stochasticity, the following allows us to make a playthrough reproducible.\n",
    "env.seed(seed=None)\n",
    "\n",
    "# Perform a step in the game, i.e. send a text command and get the new state, a reward for reaching that new state and whether the game is finished (either won or lost).\n",
    "game_state, reward, done = env.step(command)\n",
    "\n",
    "# Display the current observation, i.e. send the interpreter's response to stdout.\n",
    "env.render()\n",
    "```"
   ]
  },
  {
   "cell_type": "markdown",
   "metadata": {},
   "source": [
    "### Getting the initial state"
   ]
  },
  {
   "cell_type": "code",
   "execution_count": 4,
   "metadata": {},
   "outputs": [],
   "source": [
    "game_state = env.reset()"
   ]
  },
  {
   "cell_type": "markdown",
   "metadata": {},
   "source": [
    "The variable `game_state` is a subclass of `textworld.core.GameState`. It provides the API allowing us to retrieve diverse information about the current state of the game. Here are the most useful properties."
   ]
  },
  {
   "cell_type": "code",
   "execution_count": 5,
   "metadata": {},
   "outputs": [
    {
     "name": "stdout",
     "output_type": "stream",
     "text": [
      "\n",
      "GREAT.  THEY'VE DONE IT TO ME AGAIN.  You think to yourself. THEY'VE STUCK ME IN ANOTHER ONE OF THEIR SILLY SCENARIOS.  You glance about with a look of irritation on your face.  WELL, I'LL SHOW THEM.  I'LL MAKE SHORT WORK OF THEIR STUPID LITTLE PUZZLE...\n",
      "\n",
      "THE ACORN COURT\n",
      "An Interactive Text Adventure\n",
      "Copyright (c) 1997 by Todd S. Murchison.\n",
      "Release 3 / Serial number 970904 / Inform v6.13 Library 6/5\n",
      "Standard interpreter 1.0\n",
      "\n",
      "Court Yard\n",
      "A good sized courtyard with an air of late British colonialism about it.  To the west, in the direction the sun is setting, is a high, grey stone wall with an ornate iron gate set into the rock.  The walls of a large stone mansion rise several stories into the chilly evening air to the east, north, and south.  In the east wall, two or three stories up, is a large window.  On top of the west wall, above and to the right of the gate, is a large squirrels nest made of sticks, twigs, and leaves.\n",
      "\n",
      "A carpeting of old brown leaves from past winters rustle about on the ground in the breeze and drift listlessly across a cracked, stained, pale green tennis court with a rotting net.  In one corner of the court yard an impressively large oak tree casts long shadows in the dimming light.  The acorns nestled among the tree's massive branches and vividly healthy leaves are new and green.  Near the tree is a quaint looking well of crumbling stone.\n",
      "\n",
      "A rusty tin pail rests in the grass near the ball machine.\n",
      "\n",
      "The tennis ball launching machine sitting in one corner of the yard looks like a relic from the 1930s.\n"
     ]
    }
   ],
   "source": [
    "# Response from the parser after entering a text command or resetting a game.\n",
    "print(game_state.feedback)"
   ]
  },
  {
   "cell_type": "code",
   "execution_count": 53,
   "metadata": {},
   "outputs": [
    {
     "name": "stdout",
     "output_type": "stream",
     "text": [
      "None\n"
     ]
    }
   ],
   "source": [
    "# Text describing the room the player is currently in.\n",
    "# It corresponds the parser's feedback of the \"look\" command.\n",
    "print(game_state.description)"
   ]
  },
  {
   "cell_type": "code",
   "execution_count": 54,
   "metadata": {},
   "outputs": [
    {
     "name": "stdout",
     "output_type": "stream",
     "text": [
      "None\n"
     ]
    }
   ],
   "source": [
    "# Text describing the player's inventory.\n",
    "print(game_state.inventory)"
   ]
  },
  {
   "cell_type": "code",
   "execution_count": 55,
   "metadata": {},
   "outputs": [
    {
     "name": "stdout",
     "output_type": "stream",
     "text": [
      "0\n"
     ]
    }
   ],
   "source": [
    "# Score received up until now.\n",
    "print(game_state.score)"
   ]
  },
  {
   "cell_type": "code",
   "execution_count": 56,
   "metadata": {},
   "outputs": [
    {
     "name": "stdout",
     "output_type": "stream",
     "text": [
      "A very small well suffering from age.  It is probably meant primarily as decoration, however, for authenticity, it is also functional.  This is made obvious by the crank and length of rope mounted above it.\n"
     ]
    }
   ],
   "source": [
    "game_state, score, done = env.step(\"x well\")\n",
    "print(game_state.feedback)  # Result of the command."
   ]
  },
  {
   "cell_type": "code",
   "execution_count": 43,
   "metadata": {},
   "outputs": [
    {
     "name": "stdout",
     "output_type": "stream",
     "text": [
      "None\n"
     ]
    }
   ],
   "source": [
    "print(game_state.description)  # Description of the room."
   ]
  },
  {
   "cell_type": "markdown",
   "metadata": {},
   "source": [
    "Alternatively to `print(game_state.feedback)`, it is more convenient to do:"
   ]
  },
  {
   "cell_type": "code",
   "execution_count": 44,
   "metadata": {},
   "outputs": [
    {
     "name": "stdout",
     "output_type": "stream",
     "text": [
      "A very small well suffering from age.  It is probably meant primarily as\n",
      "decoration, however, for authenticity, it is also functional.  This is made\n",
      "obvious by the crank and length of rope mounted above it.\n",
      "\n"
     ]
    }
   ],
   "source": [
    "env.render()"
   ]
  },
  {
   "cell_type": "markdown",
   "metadata": {},
   "source": [
    "### Making a simple play loop"
   ]
  },
  {
   "cell_type": "code",
   "execution_count": 46,
   "metadata": {},
   "outputs": [
    {
     "name": "stdout",
     "output_type": "stream",
     "text": [
      "\n",
      "GREAT.  THEY'VE DONE IT TO ME AGAIN.  You think to yourself. THEY'VE STUCK ME IN\n",
      "ANOTHER ONE OF THEIR SILLY SCENARIOS.  You glance about with a look of\n",
      "irritation on your face.  WELL, I'LL SHOW THEM.  I'LL MAKE SHORT WORK OF THEIR\n",
      "STUPID LITTLE PUZZLE...\n",
      "\n",
      "THE ACORN COURT\n",
      "An Interactive Text Adventure\n",
      "Copyright (c) 1997 by Todd S. Murchison.\n",
      "Release 3 / Serial number 970904 / Inform v6.13 Library 6/5\n",
      "Standard interpreter 1.0\n",
      "\n",
      "Court Yard\n",
      "A good sized courtyard with an air of late British colonialism about it.  To the\n",
      "west, in the direction the sun is setting, is a high, grey stone wall with an\n",
      "ornate iron gate set into the rock.  The walls of a large stone mansion rise\n",
      "several stories into the chilly evening air to the east, north, and south.  In\n",
      "the east wall, two or three stories up, is a large window.  On top of the west\n",
      "wall, above and to the right of the gate, is a large squirrels nest made of\n",
      "sticks, twigs, and leaves.\n",
      "\n",
      "A carpeting of old brown leaves from past winters rustle about on the ground in\n",
      "the breeze and drift listlessly across a cracked, stained, pale green tennis\n",
      "court with a rotting net.  In one corner of the court yard an impressively large\n",
      "oak tree casts long shadows in the dimming light.  The acorns nestled among the\n",
      "tree's massive branches and vividly healthy leaves are new and green.  Near the\n",
      "tree is a quaint looking well of crumbling stone.\n",
      "\n",
      "A rusty tin pail rests in the grass near the ball machine.\n",
      "\n",
      "The tennis ball launching machine sitting in one corner of the yard looks like a\n",
      "relic from the 1930s.\n",
      "\n",
      "Played None steps, scoring 0 points.\n"
     ]
    }
   ],
   "source": [
    "try:\n",
    "    done = False\n",
    "    env.reset()\n",
    "    while not done:\n",
    "        env.render()\n",
    "        command = input(\"> \")\n",
    "        game_state, reward, done = env.step(command)\n",
    "    \n",
    "    env.render()  # Final message.\n",
    "except KeyboardInterrupt:\n",
    "    pass  # Quit the game.\n",
    "\n",
    "print(\"Played {} steps, scoring {} points.\".format(game_state.moves, game_state.score))\n"
   ]
  },
  {
   "cell_type": "markdown",
   "metadata": {},
   "source": [
    "## Play a generated game\n",
    "TextWorld also has the capacity to generate games. Play one of our generated games below using the builtin play loop function or the `tw-play` script."
   ]
  },
  {
   "cell_type": "code",
   "execution_count": 2,
   "metadata": {},
   "outputs": [
    {
     "name": "stdout",
     "output_type": "stream",
     "text": [
      "\n",
      "\n",
      "\n",
      "                    ________  ________  __    __  ________\n",
      "                   |        \\|        \\|  \\  |  \\|        \\\n",
      "                    \\$$$$$$$$| $$$$$$$$| $$  | $$ \\$$$$$$$$\n",
      "                      | $$   | $$__     \\$$\\/  $$   | $$\n",
      "                      | $$   | $$  \\     >$$  $$    | $$\n",
      "                      | $$   | $$$$$    /  $$$$\\    | $$\n",
      "                      | $$   | $$_____ |  $$ \\$$\\   | $$\n",
      "                      | $$   | $$     \\| $$  | $$   | $$\n",
      "                       \\$$    \\$$$$$$$$ \\$$   \\$$    \\$$\n",
      "              __       __   ______   _______   __        _______\n",
      "             |  \\  _  |  \\ /      \\ |       \\ |  \\      |       \\\n",
      "             | $$ / \\ | $$|  $$$$$$\\| $$$$$$$\\| $$      | $$$$$$$\\\n",
      "             | $$/  $\\| $$| $$  | $$| $$__| $$| $$      | $$  | $$\n",
      "             | $$  $$$\\ $$| $$  | $$| $$    $$| $$      | $$  | $$\n",
      "             | $$ $$\\$$\\$$| $$  | $$| $$$$$$$\\| $$      | $$  | $$\n",
      "             | $$$$  \\$$$$| $$__/ $$| $$  | $$| $$_____ | $$__/ $$\n",
      "             | $$$    \\$$$ \\$$    $$| $$  | $$| $$     \\| $$    $$\n",
      "              \\$$      \\$$  \\$$$$$$  \\$$   \\$$ \\$$$$$$$$ \\$$$$$$$\n",
      "\n",
      "\n",
      "\n",
      "-= Bedroom =-\n",
      "You are in a bedroom. A standard kind of place.\n",
      "\n",
      "You can make out a chest drawer. There's something strange about this being\n",
      "here, but you can't put your finger on it. You see a closed antique trunk right\n",
      "there by you. Look over there! a king-size bed. Now why would someone leave that\n",
      "there? But oh no! there's nothing on this piece of trash.\n",
      "\n",
      "There is a closed wooden door leading east.\n",
      "\n",
      "Done after 0 steps. Score 0/1.\n"
     ]
    }
   ],
   "source": [
    "textworld.play(\"./games/rewardsSparse_goalNone.ulx\")"
   ]
  }
 ],
 "metadata": {
  "kernelspec": {
   "display_name": "Python 3",
   "language": "python",
   "name": "python3"
  },
  "language_info": {
   "codemirror_mode": {
    "name": "ipython",
    "version": 3
   },
   "file_extension": ".py",
   "mimetype": "text/x-python",
   "name": "python",
   "nbconvert_exporter": "python",
   "pygments_lexer": "ipython3",
   "version": "3.8.2"
  }
 },
 "nbformat": 4,
 "nbformat_minor": 2
}
