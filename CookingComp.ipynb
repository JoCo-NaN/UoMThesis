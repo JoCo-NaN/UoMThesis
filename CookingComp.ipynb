{
 "cells": [
  {
   "cell_type": "code",
   "execution_count": 1,
   "metadata": {},
   "outputs": [
    {
     "name": "stdout",
     "output_type": "stream",
     "text": [
      "Found 10 games.\n"
     ]
    }
   ],
   "source": [
    "''' Cooking Competition games'''\n",
    "from glob import glob\n",
    "from os.path import join as pjoin\n",
    "\n",
    "import gym\n",
    "import textworld\n",
    "import textworld.gym\n",
    "from textworld import EnvInfos\n",
    "\n",
    "GAMES_PATH = \"starting_k/sample_games\"  # This assumes `sample_games.zip` was first unzipped. Total max_score: 64\n",
    "#GAMES_PATH = \"starting_k/sample_submission_lstm-dqn/train\" # Total max_score: 19882\n",
    "gamefiles = glob(pjoin(GAMES_PATH, \"*.ulx\"))\n",
    "print(\"Found {} games.\".format(len(gamefiles)))"
   ]
  },
  {
   "cell_type": "code",
   "execution_count": 2,
   "metadata": {},
   "outputs": [
    {
     "name": "stdout",
     "output_type": "stream",
     "text": [
      "Found 4 games.\n"
     ]
    }
   ],
   "source": [
    "''' Hand-Crafted Games'''\n",
    "from glob import glob\n",
    "from os.path import join as pjoin\n",
    "\n",
    "import gym\n",
    "import textworld\n",
    "import textworld.gym\n",
    "from textworld import EnvInfos\n",
    "\n",
    "GAMES_PATH = \"handCraft\"  # This assumes `sample_games.zip` was first unzipped.\n",
    "gamefiles = glob(pjoin(GAMES_PATH, \"*.ulx\"))\n",
    "print(\"Found {} games.\".format(len(gamefiles)))"
   ]
  },
  {
   "cell_type": "code",
   "execution_count": 3,
   "metadata": {},
   "outputs": [
    {
     "name": "stdout",
     "output_type": "stream",
     "text": [
      "['recipe', 'take', 'cook', 'cut', 'open', 'drop', 'go']\n",
      "\n",
      "\n",
      "{'train': ['orange bell pepper', 'block of cheese', 'black pepper', 'red hot pepper', 'yellow bell pepper', 'banana', 'salt', 'chicken leg', 'cilantro', 'white onion', 'purple potato', 'olive oil', 'flour', 'red onion', 'yellow potato', 'parsley', 'red potato', 'water', 'pork chop', 'red apple', 'chicken wing', 'carrot'], 'valid': ['vegetable oil', 'green apple', 'red tuna', 'green bell pepper', 'red bell pepper', 'lettuce', 'peanut oil', 'chicken breast'], 'test': ['milk', 'yellow onion', 'yellow apple', 'sugar', 'egg', 'green hot pepper', 'white tuna', 'tomato']}\n"
     ]
    }
   ],
   "source": [
    "from textworld.challenges.tw_cooking.cooking import SKILLS as SORTED_SKILLS\n",
    "from textworld.challenges.tw_cooking.cooking import FOODS_SPLITS as food\n",
    "print(SORTED_SKILLS)\n",
    "print(\"\\n\")\n",
    "print(food)"
   ]
  },
  {
   "cell_type": "code",
   "execution_count": 4,
   "metadata": {},
   "outputs": [
    {
     "name": "stdout",
     "output_type": "stream",
     "text": [
      "['list', 'take', 'open', 'drop', 'go']\n"
     ]
    }
   ],
   "source": [
    "from textworld.challenges.tw_shopping.shopping import SKILLS as skills\n",
    "print(skills)"
   ]
  },
  {
   "cell_type": "code",
   "execution_count": 18,
   "metadata": {},
   "outputs": [
    {
     "name": "stdout",
     "output_type": "stream",
     "text": [
      "Importing challenges from ./TextWorld/textworld/challenges/tw_shopping/shopping.py.\n",
      "usage: tw-make tw-shopping [-h] [--list INT] [--take INT] [--go {1,6,10}] [--open] [--drop] [--list-seed INT]\n",
      "                           [--split {train,valid,test}] [--output PATH] [--seed SEED] [--format {ulx,z8}] [--overview]\n",
      "                           [--save-overview] [-f] [--silent | -v]\n",
      "\n",
      "optional arguments:\n",
      "  -h, --help            show this help message and exit\n",
      "\n",
      "The Shopping Game settings:\n",
      "  --list INT            Number of items in the shopping list. Default: 1\n",
      "  --take INT            Number of items to find. It must be less or equal to the value of `--list`. Default: 0\n",
      "  --go {1,6,10}         Number of locations in the game (1, 6 or 10). Default: 1\n",
      "  --open                Whether containers/doors need to be opened.\n",
      "  --drop                Whether the player's inventory has limited capacity.\n",
      "  --list-seed INT       Random seed used for generating the shopping list. Default: 0\n",
      "  --split {train,valid,test}\n",
      "                        Specify the game distribution to use. Shopping items (nouns and adj-noun pairs) are split in\n",
      "                        three subsets.* train: training items * valid: valid items * test: test items Default: game is\n",
      "                        drawn from the joint distribution over train, valid, and test.\n",
      "\n",
      "General settings:\n",
      "  --output PATH         Path where to save the generated game. If it points to a folder, the game's UUID will be used\n",
      "                        as the filename.\n",
      "  --seed SEED\n",
      "  --format {ulx,z8}     Which format to use when compiling the game. Default: z8\n",
      "  --overview            Display an overview of the generated game.\n",
      "  --save-overview       Save the overview image of the generated game alongside the game as a PNG file.\n",
      "  -f, --force\n",
      "  --silent\n",
      "  -v, --verbose\n"
     ]
    }
   ],
   "source": [
    "!tw-make --third-party ./TextWorld/textworld/challenges/tw_shopping/shopping.py tw-shopping --help"
   ]
  },
  {
   "cell_type": "code",
   "execution_count": 29,
   "metadata": {},
   "outputs": [
    {
     "name": "stdout",
     "output_type": "stream",
     "text": [
      "Importing challenges from ./TextWorld/textworld/challenges/tw_shopping/shopping.py.\n",
      "Global seed: 1\n",
      "Game generated: /TextWorld/notebooks/UoMDiss/handCraft/tw-shopping-train-list1+take1+go1-ekDZtbGXIbO5FKp8.ulx\n",
      "Overview image: /TextWorld/notebooks/UoMDiss/handCraft/tw-shopping-train-list1+take1+go1-ekDZtbGXIbO5FKp8.png\n"
     ]
    }
   ],
   "source": [
    "!tw-make --third-party ./TextWorld/textworld/challenges/tw_shopping/shopping.py tw-shopping --list 1 --take 1 --go 1 --list-seed 1 --split train --output ./handCraft/ --format ulx --overview --save-overview --seed 1"
   ]
  },
  {
   "cell_type": "code",
   "execution_count": 53,
   "metadata": {},
   "outputs": [
    {
     "name": "stdout",
     "output_type": "stream",
     "text": [
      "Importing challenges from ./TextWorld/textworld/challenges/tw_shopping/shopping.py.\n",
      "Global seed: 123\n",
      "Game generated: /TextWorld/notebooks/UoMDiss/handCraft/tw-shopping-valid-list2+take2+go1-DMMnuoxmUp2xIOpm.ulx\n",
      "Overview image: /TextWorld/notebooks/UoMDiss/handCraft/tw-shopping-valid-list2+take2+go1-DMMnuoxmUp2xIOpm.png\n"
     ]
    }
   ],
   "source": [
    "# Can go up to 5 items\n",
    "!tw-make --third-party ./TextWorld/textworld/challenges/tw_shopping/shopping.py tw-shopping  --list 2 --take 2 --go 1 --list-seed 1 --split valid --output ./handCraft/ --format ulx --overview --save-overview --seed 1"
   ]
  },
  {
   "cell_type": "code",
   "execution_count": 54,
   "metadata": {},
   "outputs": [
    {
     "name": "stdout",
     "output_type": "stream",
     "text": [
      "\n",
      "\n",
      "\n",
      "                    ________  ________  __    __  ________\n",
      "                   |        \\|        \\|  \\  |  \\|        \\\n",
      "                    \\$$$$$$$$| $$$$$$$$| $$  | $$ \\$$$$$$$$\n",
      "                      | $$   | $$__     \\$$\\/  $$   | $$\n",
      "                      | $$   | $$  \\     >$$  $$    | $$\n",
      "                      | $$   | $$$$$    /  $$$$\\    | $$\n",
      "                      | $$   | $$_____ |  $$ \\$$\\   | $$\n",
      "                      | $$   | $$     \\| $$  | $$   | $$\n",
      "                       \\$$    \\$$$$$$$$ \\$$   \\$$    \\$$\n",
      "              __       __   ______   _______   __        _______\n",
      "             |  \\  _  |  \\ /      \\ |       \\ |  \\      |       \\\n",
      "             | $$ / \\ | $$|  $$$$$$\\| $$$$$$$\\| $$      | $$$$$$$\\\n",
      "             | $$/  $\\| $$| $$  | $$| $$__| $$| $$      | $$  | $$\n",
      "             | $$  $$$\\ $$| $$  | $$| $$    $$| $$      | $$  | $$\n",
      "             | $$ $$\\$$\\$$| $$  | $$| $$$$$$$\\| $$      | $$  | $$\n",
      "             | $$$$  \\$$$$| $$__/ $$| $$  | $$| $$_____ | $$__/ $$\n",
      "             | $$$    \\$$$ \\$$    $$| $$  | $$| $$     \\| $$    $$\n",
      "              \\$$      \\$$  \\$$$$$$  \\$$   \\$$ \\$$$$$$$$ \\$$$$$$$\n",
      "\n",
      "You are eager to shop! Let's get you sorted to quench your desire. Check the\n",
      "shopping list in the checkout for the items needed and directions. Once done,\n",
      "enjoy your items!\n",
      "\n",
      "-= Checkout =-\n",
      "You've entered a checkout.\n",
      "\n",
      "You can make out an opened basket. The basket is empty, what a horrible day! You\n",
      "scan the room, seeing a fridge. You idly wonder how they came up with the name\n",
      "TextWorld for this place. It's pretty fitting. The fridge contains a diced\n",
      "lettuce. You rest your hand against a wall, but you miss the wall and fall onto\n",
      "a donation box. You wonder idly who left that here. Empty! What kind of\n",
      "nightmare TextWorld is this? You can make out a counter. The counter is high-\n",
      "tech. On the counter you make out a shopping list. You make out a shelf. On the\n",
      "shelf you can make out a cheeseburger, a beef lasagne and a beef bacon. You can\n",
      "make out a showcase. The showcase is metallic. On the showcase you can make out\n",
      "a shorts.\n",
      "\n",
      "Available actions: ['close basket', 'close donation box', 'close fridge', 'examine basket', 'examine beef bacon', 'examine beef lasagne', 'examine cheeseburger', 'examine counter', 'examine donation box', 'examine fridge', 'examine lettuce', 'examine shelf', 'examine shopping list', 'examine shorts', 'examine showcase', 'inventory', 'look', 'take beef bacon from shelf', 'take beef lasagne from shelf', 'take cheeseburger from shelf', 'take lettuce from fridge', 'take shopping list from counter', 'take shorts from showcase']\n",
      "\n",
      "> x list\n",
      "You examine the shopping list and start reading:\n",
      "\n",
      "Shopping list #1\n",
      "---------\n",
      "Gather all following items and follow the directions to enjoy a wonderful and\n",
      "hassle-free day of shopping.\n",
      "\n",
      "Items:\n",
      "cheeseburger\n",
      "lettuce\n",
      "\n",
      "Directions:\n",
      "Gather all above items and enjoy!\n",
      "\n",
      "Available actions: ['close basket', 'close donation box', 'close fridge', 'examine basket', 'examine beef bacon', 'examine beef lasagne', 'examine cheeseburger', 'examine counter', 'examine donation box', 'examine fridge', 'examine lettuce', 'examine shelf', 'examine shopping list', 'examine shorts', 'examine showcase', 'inventory', 'look', 'take beef bacon from shelf', 'take beef lasagne from shelf', 'take cheeseburger from shelf', 'take lettuce from fridge', 'take shopping list from counter', 'take shorts from showcase']\n",
      "\n",
      "Done after 1 steps. Score 0/2.\n"
     ]
    }
   ],
   "source": [
    "textworld.play('./handCraft/tw-shopping-test-list2+take2+go1-ekDZtbGXIbO5FKp8.ulx')"
   ]
  },
  {
   "cell_type": "code",
   "execution_count": 32,
   "metadata": {},
   "outputs": [
    {
     "name": "stdout",
     "output_type": "stream",
     "text": [
      "Importing challenges from ./TextWorld/textworld/challenges/tw_shopping/shopping.py.\n",
      "Global seed: 1\n",
      "Game generated: /TextWorld/notebooks/UoMDiss/handCraft/tw-shopping-train-list1+take1+go6-ekDZtbGXIbO5FKp8.ulx\n",
      "Overview image: /TextWorld/notebooks/UoMDiss/handCraft/tw-shopping-train-list1+take1+go6-ekDZtbGXIbO5FKp8.png\n"
     ]
    }
   ],
   "source": [
    "!tw-make --third-party ./TextWorld/textworld/challenges/tw_shopping/shopping.py tw-shopping  --list 1 --take 1 --go 6 --list-seed 1 --split train --output ./handCraft/ --format ulx --overview --save-overview --seed 1"
   ]
  },
  {
   "cell_type": "code",
   "execution_count": 33,
   "metadata": {},
   "outputs": [
    {
     "name": "stdout",
     "output_type": "stream",
     "text": [
      "Importing challenges from ./TextWorld/textworld/challenges/tw_shopping/shopping.py.\n",
      "Global seed: 1\n",
      "Game generated: /TextWorld/notebooks/UoMDiss/handCraft/tw-shopping-train-list2+take2+go6-ekDZtbGXIbO5FKp8.ulx\n",
      "Overview image: /TextWorld/notebooks/UoMDiss/handCraft/tw-shopping-train-list2+take2+go6-ekDZtbGXIbO5FKp8.png\n"
     ]
    }
   ],
   "source": [
    "!tw-make --third-party ./TextWorld/textworld/challenges/tw_shopping/shopping.py tw-shopping  --list 2 --take 2 --go 6 --list-seed 1 --split train --output ./handCraft/ --format ulx --overview --save-overview --seed 1"
   ]
  },
  {
   "cell_type": "code",
   "execution_count": 34,
   "metadata": {},
   "outputs": [
    {
     "name": "stdout",
     "output_type": "stream",
     "text": [
      "Importing challenges from ./TextWorld/textworld/challenges/tw_shopping/shopping.py.\n",
      "Global seed: 1\n",
      "Game generated: /TextWorld/notebooks/UoMDiss/handCraft/tw-shopping-train-list1+take1+go10-ekDZtbGXIbO5FKp8.ulx\n",
      "Overview image: /TextWorld/notebooks/UoMDiss/handCraft/tw-shopping-train-list1+take1+go10-ekDZtbGXIbO5FKp8.png\n"
     ]
    }
   ],
   "source": [
    "!tw-make --third-party ./TextWorld/textworld/challenges/tw_shopping/shopping.py tw-shopping  --list 1 --take 1 --go 10 --list-seed 1 --split train --output ./handCraft/ --format ulx --overview --save-overview --seed 1"
   ]
  },
  {
   "cell_type": "code",
   "execution_count": 35,
   "metadata": {},
   "outputs": [
    {
     "name": "stdout",
     "output_type": "stream",
     "text": [
      "Importing challenges from ./TextWorld/textworld/challenges/tw_shopping/shopping.py.\n",
      "Global seed: 1\n",
      "Game generated: /TextWorld/notebooks/UoMDiss/handCraft/tw-shopping-train-list2+take2+go10-ekDZtbGXIbO5FKp8.ulx\n",
      "Overview image: /TextWorld/notebooks/UoMDiss/handCraft/tw-shopping-train-list2+take2+go10-ekDZtbGXIbO5FKp8.png\n"
     ]
    }
   ],
   "source": [
    "!tw-make --third-party ./TextWorld/textworld/challenges/tw_shopping/shopping.py tw-shopping  --list 2 --take 2 --go 10 --list-seed 1 --split train --output ./handCraft/ --format ulx --overview --save-overview --seed 1"
   ]
  },
  {
   "cell_type": "code",
   "execution_count": 15,
   "metadata": {},
   "outputs": [
    {
     "name": "stdout",
     "output_type": "stream",
     "text": [
      "^C\r\n"
     ]
    }
   ],
   "source": [
    "# Build 100 games\n",
    "! seq 1 100 | xargs -n1 -P4 tw-make --third-party ./TextWorld/textworld/challenges/tw_shopping/shopping.py tw-shopping --list 1  --take 1 --recipe-seed 1 --split train --output ./handCraft/ --format ulx --overview --save-overview --seed"
   ]
  },
  {
   "cell_type": "code",
   "execution_count": 6,
   "metadata": {},
   "outputs": [
    {
     "name": "stdout",
     "output_type": "stream",
     "text": [
      "usage: tw-make tw-cooking [-h] [--recipe INT] [--take INT] [--go {1,6,9,12}] [--open] [--cook] [--cut] [--drop]\r\n",
      "                          [--recipe-seed INT] [--split {train,valid,test}] [--output PATH] [--seed SEED]\r\n",
      "                          [--format {ulx,z8}] [--overview] [--save-overview] [-f] [--silent | -v]\r\n",
      "\r\n",
      "optional arguments:\r\n",
      "  -h, --help            show this help message and exit\r\n",
      "\r\n",
      "The Cooking Game settings:\r\n",
      "  --recipe INT          Number of ingredients in the recipe. Default: 1\r\n",
      "  --take INT            Number of ingredients to find. It must be less or equal to the value of `--recipe`. Default: 0\r\n",
      "  --go {1,6,9,12}       Number of locations in the game (1, 6, 9, or 12). Default: 1\r\n",
      "  --open                Whether containers/doors need to be opened.\r\n",
      "  --cook                Whether some ingredients need to be cooked.\r\n",
      "  --cut                 Whether some ingredients need to be cut.\r\n",
      "  --drop                Whether the player's inventory has limited capacity.\r\n",
      "  --recipe-seed INT     Random seed used for generating the recipe. Default: 0\r\n",
      "  --split {train,valid,test}\r\n",
      "                        Specify the game distribution to use. Food items (adj-noun pairs) are split in three subsets.\r\n",
      "                        Also, the way the training food items can be prepared is further divided in three subsets. *\r\n",
      "                        train: training food and their corresponding training preparations * valid: valid food +\r\n",
      "                        training food but with unseen valid preparations * test: test food + training food but with\r\n",
      "                        unseen test preparations Default: game is drawn from the joint distribution over train, valid,\r\n",
      "                        and test.\r\n",
      "\r\n",
      "General settings:\r\n",
      "  --output PATH         Path where to save the generated game. If it points to a folder, the game's UUID will be used\r\n",
      "                        as the filename.\r\n",
      "  --seed SEED\r\n",
      "  --format {ulx,z8}     Which format to use when compiling the game. Default: z8\r\n",
      "  --overview            Display an overview of the generated game.\r\n",
      "  --save-overview       Save the overview image of the generated game alongside the game as a PNG file.\r\n",
      "  -f, --force\r\n",
      "  --silent\r\n",
      "  -v, --verbose\r\n"
     ]
    }
   ],
   "source": [
    "!tw-make tw-cooking --help"
   ]
  },
  {
   "cell_type": "markdown",
   "metadata": {},
   "source": [
    "## Playing a game "
   ]
  },
  {
   "cell_type": "code",
   "execution_count": 22,
   "metadata": {
    "scrolled": false
   },
   "outputs": [
    {
     "name": "stdout",
     "output_type": "stream",
     "text": [
      "Walkthrough: go south. go west. go south. open fridge. take pork chop from fridge. go north. open patio door. go west. go west. take purple potato. take yellow bell pepper. go east. open patio door. go east. go south. cook pork chop with stove. cook purple potato with stove. drop purple potato. take knife from counter. slice pork chop with knife. drop knife. take purple potato. drop yellow bell pepper. take knife. chop purple potato with knife. drop knife. take yellow bell pepper. drop pork chop. take knife. dice yellow bell pepper with knife. drop knife. take pork chop. prepare meal. eat meal\n",
      "You open the copy of 'Cooking: A Modern Approach (3rd Ed.)' and start reading:\n",
      "\n",
      "Recipe #1\n",
      "---------\n",
      "Gather all following ingredients and follow the directions to prepare this tasty meal.\n",
      "\n",
      "Ingredients:\n",
      "  pork chop\n",
      "  purple potato\n",
      "  yellow bell pepper\n",
      "\n",
      "Directions:\n",
      "  slice the pork chop\n",
      "  fry the pork chop\n",
      "  chop the purple potato\n",
      "  fry the purple potato\n",
      "  dice the yellow bell pepper\n",
      "  prepare meal\n",
      "\n",
      "10\n",
      "\n",
      "\n",
      "\n",
      "                    ________  ________  __    __  ________        \n",
      "                   |        \\|        \\|  \\  |  \\|        \\       \n",
      "                    \\$$$$$$$$| $$$$$$$$| $$  | $$ \\$$$$$$$$       \n",
      "                      | $$   | $$__     \\$$\\/  $$   | $$          \n",
      "                      | $$   | $$  \\     >$$  $$    | $$          \n",
      "                      | $$   | $$$$$    /  $$$$\\    | $$          \n",
      "                      | $$   | $$_____ |  $$ \\$$\\   | $$          \n",
      "                      | $$   | $$     \\| $$  | $$   | $$          \n",
      "                       \\$$    \\$$$$$$$$ \\$$   \\$$    \\$$          \n",
      "              __       __   ______   _______   __        _______  \n",
      "             |  \\  _  |  \\ /      \\ |       \\ |  \\      |       \\ \n",
      "             | $$ / \\ | $$|  $$$$$$\\| $$$$$$$\\| $$      | $$$$$$$\\\n",
      "             | $$/  $\\| $$| $$  | $$| $$__| $$| $$      | $$  | $$\n",
      "             | $$  $$$\\ $$| $$  | $$| $$    $$| $$      | $$  | $$\n",
      "             | $$ $$\\$$\\$$| $$  | $$| $$$$$$$\\| $$      | $$  | $$\n",
      "             | $$$$  \\$$$$| $$__/ $$| $$  | $$| $$_____ | $$__/ $$\n",
      "             | $$$    \\$$$ \\$$    $$| $$  | $$| $$     \\| $$    $$\n",
      "              \\$$      \\$$  \\$$$$$$  \\$$   \\$$ \\$$$$$$$$ \\$$$$$$$ \n",
      "\n",
      "You are hungry! Let's cook a delicious meal. Check the cookbook in the kitchen for the recipe. Once done, enjoy your meal!\n",
      "\n",
      "-= Bedroom =-\n",
      "Okay, so you're in a bedroom, cool, but is it normal? You better believe it is.\n",
      "\n",
      "You can make out a bed. You shudder, but continue examining the bed. The bed is large. But the thing is empty.\n",
      "\n",
      "There is an exit to the south. Don't worry, there is no door.\n",
      "\n",
      "3\n",
      "6\n",
      "5\n",
      "7\n",
      "6\n",
      "10\n",
      "10\n",
      "5\n",
      "10\n",
      "2\n",
      "Total Score: 64\n"
     ]
    },
    {
     "data": {
      "text/plain": [
       "\"\\nscore = 0\\ndone = False\\nwhile not done:\\n    command = input('> ')\\n    ob, score, done, infos = env.step(command)\\n    #print(ob)\\n    env.render()\\n\""
      ]
     },
     "execution_count": 22,
     "metadata": {},
     "output_type": "execute_result"
    }
   ],
   "source": [
    "gamefile = gamefiles[8]  # Pick a game.\n",
    "\n",
    "requested_infos = EnvInfos(description=True, inventory=True, extras=[\"goal\", \"walkthrough\", \"max_score\"])\n",
    "env_id = textworld.gym.register_games([gamefile], requested_infos)\n",
    "agent = textworld.agents.HumanAgent()\n",
    "\n",
    "env = gym.make(env_id)\n",
    "obs, infos = env.reset()\n",
    "#game_state = env.reset()\n",
    "\n",
    "# Since we asked for more infos, let's print them.\n",
    "print(\"Walkthrough:\", \". \".join(infos[\"extra.walkthrough\"]))\n",
    "print(infos[\"extra.goal\"])\n",
    "print(infos[\"extra.max_score\"])\n",
    "#env.render()  # Print the initial observation.\n",
    "print(obs)\n",
    "\n",
    "maxS = 0\n",
    "for game in gamefiles:\n",
    "    requested_infos = EnvInfos(description=True, inventory=True, extras=[\"goal\", \"walkthrough\", \"max_score\"])\n",
    "    env_id = textworld.gym.register_games([game], requested_infos)\n",
    "    agent = textworld.agents.HumanAgent()\n",
    "\n",
    "    env = gym.make(env_id)\n",
    "    obs, infos = env.reset()\n",
    "    #game_state = env.reset()\n",
    "\n",
    "    # Since we asked for more infos, let's print them.\n",
    "    #print(\"Walkthrough:\", \". \".join(infos[\"extra.walkthrough\"]))\n",
    "    #print(infos[\"extra.goal\"])\n",
    "    print(infos[\"extra.max_score\"])\n",
    "    maxS+=infos[\"extra.max_score\"]\n",
    "    #env.render()  # Print the initial observation.\n",
    "\n",
    "print('Total Score:', maxS)\n",
    "'''\n",
    "score = 0\n",
    "done = False\n",
    "while not done:\n",
    "    command = input('> ')\n",
    "    ob, score, done, infos = env.step(command)\n",
    "    #print(ob)\n",
    "    env.render()\n",
    "'''    "
   ]
  },
  {
   "cell_type": "markdown",
   "metadata": {},
   "source": [
    "## Visualizing a `TextWorld.Game` object"
   ]
  },
  {
   "cell_type": "code",
   "execution_count": 3,
   "metadata": {},
   "outputs": [
    {
     "data": {
      "image/png": "[encoded data removed]",
      "text/plain": [
       "<PIL.Image.Image image mode=RGB size=795x600 at 0x7FCBD5FF2880>"
      ]
     },
     "execution_count": 3,
     "metadata": {},
     "output_type": "execute_result"
    }
   ],
   "source": [
    "import textworld\n",
    "gamefile = gamefiles[0]  # Pick a game.\n",
    "game = textworld.Game.load(gamefile.replace(\".ulx\", \".json\"))\n",
    "textworld.render.visualize(game)"
   ]
  },
  {
   "cell_type": "code",
   "execution_count": 3,
   "metadata": {},
   "outputs": [
    {
     "data": {
      "image/png": "[encoded data removed]",
      "text/plain": [
       "<PIL.Image.Image image mode=RGB size=795x600 at 0x7F2C2FD67670>"
      ]
     },
     "execution_count": 3,
     "metadata": {},
     "output_type": "execute_result"
    }
   ],
   "source": [
    "import textworld\n",
    "gamefile = gamefiles[9]  # Pick a game.\n",
    "game = textworld.Game.load(gamefile.replace(\".ulx\", \".json\"))\n",
    "textworld.render.visualize(game)"
   ]
  },
  {
   "cell_type": "code",
   "execution_count": null,
   "metadata": {},
   "outputs": [],
   "source": []
  }
 ],
 "metadata": {
  "kernelspec": {
   "display_name": "Python 3",
   "language": "python",
   "name": "python3"
  },
  "language_info": {
   "codemirror_mode": {
    "name": "ipython",
    "version": 3
   },
   "file_extension": ".py",
   "mimetype": "text/x-python",
   "name": "python",
   "nbconvert_exporter": "python",
   "pygments_lexer": "ipython3",
   "version": "3.8.2"
  }
 },
 "nbformat": 4,
 "nbformat_minor": 2
}
