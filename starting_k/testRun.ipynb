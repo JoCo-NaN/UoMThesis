{
 "cells": [
  {
   "cell_type": "code",
   "execution_count": 2,
   "metadata": {},
   "outputs": [
    {
     "name": "stdout",
     "output_type": "stream",
     "text": [
      "Requirement already satisfied: gym in /usr/local/lib/python3.7/dist-packages (from -r requirements.txt (line 1)) (0.10.4)\n",
      "Requirement already satisfied: tqdm in /usr/local/lib/python3.7/dist-packages (from -r requirements.txt (line 2)) (4.61.2)\n",
      "Requirement already satisfied: numpy in /usr/local/lib/python3.7/dist-packages (from -r requirements.txt (line 3)) (1.21.0)\n",
      "Collecting docker\n",
      "  Downloading docker-5.0.0-py2.py3-none-any.whl (146 kB)\n",
      "\u001b[K     |████████████████████████████████| 146 kB 5.7 MB/s eta 0:00:01\n",
      "\u001b[?25hRequirement already satisfied: textworld in /usr/local/lib/python3.7/dist-packages (from -r requirements.txt (line 5)) (1.1.1)\n",
      "Requirement already satisfied: six in /usr/lib/python3/dist-packages (from gym->-r requirements.txt (line 1)) (1.12.0)\n",
      "Requirement already satisfied: requests>=2.0 in /usr/local/lib/python3.7/dist-packages (from gym->-r requirements.txt (line 1)) (2.25.1)\n",
      "Requirement already satisfied: pyglet>=1.2.0 in /usr/local/lib/python3.7/dist-packages (from gym->-r requirements.txt (line 1)) (1.5.18)\n",
      "Requirement already satisfied: certifi>=2017.4.17 in /usr/local/lib/python3.7/dist-packages (from requests>=2.0->gym->-r requirements.txt (line 1)) (2021.5.30)\n",
      "Requirement already satisfied: idna<3,>=2.5 in /usr/local/lib/python3.7/dist-packages (from requests>=2.0->gym->-r requirements.txt (line 1)) (2.10)\n",
      "Requirement already satisfied: urllib3<1.27,>=1.21.1 in /usr/local/lib/python3.7/dist-packages (from requests>=2.0->gym->-r requirements.txt (line 1)) (1.26.6)\n",
      "Requirement already satisfied: chardet<5,>=3.0.2 in /usr/local/lib/python3.7/dist-packages (from requests>=2.0->gym->-r requirements.txt (line 1)) (4.0.0)\n",
      "Collecting websocket-client>=0.32.0\n",
      "  Downloading websocket_client-1.1.0-py2.py3-none-any.whl (68 kB)\n",
      "\u001b[K     |████████████████████████████████| 68 kB 3.7 MB/s eta 0:00:01\n",
      "\u001b[?25hRequirement already satisfied: pillow>=5.1.0 in /usr/local/lib/python3.7/dist-packages (from textworld->-r requirements.txt (line 5)) (8.3.1)\n",
      "Requirement already satisfied: pyyaml>=3.12 in /usr/local/lib/python3.7/dist-packages (from textworld->-r requirements.txt (line 5)) (5.4.1)\n",
      "Requirement already satisfied: tatsu>=4.3.0 in /usr/local/lib/python3.7/dist-packages (from textworld->-r requirements.txt (line 5)) (4.4.0)\n",
      "Requirement already satisfied: pydot>=1.2.4 in /usr/local/lib/python3.7/dist-packages (from textworld->-r requirements.txt (line 5)) (1.4.2)\n",
      "Requirement already satisfied: more-itertools in /usr/local/lib/python3.7/dist-packages (from textworld->-r requirements.txt (line 5)) (8.8.0)\n",
      "Requirement already satisfied: urwid>=2.0.1 in /usr/local/lib/python3.7/dist-packages (from textworld->-r requirements.txt (line 5)) (2.1.2)\n",
      "Requirement already satisfied: jericho>=1.1.5 in /usr/local/lib/python3.7/dist-packages (from textworld->-r requirements.txt (line 5)) (3.0.5)\n",
      "Requirement already satisfied: flask>=1.0.2 in /usr/local/lib/python3.7/dist-packages (from textworld->-r requirements.txt (line 5)) (2.0.1)\n",
      "Requirement already satisfied: selenium>=3.12.0 in /usr/local/lib/python3.7/dist-packages (from textworld->-r requirements.txt (line 5)) (3.141.0)\n",
      "Requirement already satisfied: greenlet==0.4.13 in /usr/local/lib/python3.7/dist-packages (from textworld->-r requirements.txt (line 5)) (0.4.13)\n",
      "Requirement already satisfied: cffi>=1.0.0 in /usr/local/lib/python3.7/dist-packages (from textworld->-r requirements.txt (line 5)) (1.14.6)\n",
      "Requirement already satisfied: gevent==1.3.5 in /usr/local/lib/python3.7/dist-packages (from textworld->-r requirements.txt (line 5)) (1.3.5)\n",
      "Requirement already satisfied: pybars3>=0.9.3 in /usr/local/lib/python3.7/dist-packages (from textworld->-r requirements.txt (line 5)) (0.9.7)\n",
      "Requirement already satisfied: hashids>=1.2.0 in /usr/local/lib/python3.7/dist-packages (from textworld->-r requirements.txt (line 5)) (1.3.1)\n",
      "Requirement already satisfied: prompt-toolkit<2.1.0,>=2.0.0 in /usr/local/lib/python3.7/dist-packages (from textworld->-r requirements.txt (line 5)) (2.0.10)\n",
      "Requirement already satisfied: networkx>=2 in /usr/local/lib/python3.7/dist-packages (from textworld->-r requirements.txt (line 5)) (2.5.1)\n",
      "Requirement already satisfied: pycparser in /usr/local/lib/python3.7/dist-packages (from cffi>=1.0.0->textworld->-r requirements.txt (line 5)) (2.20)\n",
      "Requirement already satisfied: click>=7.1.2 in /usr/local/lib/python3.7/dist-packages (from flask>=1.0.2->textworld->-r requirements.txt (line 5)) (8.0.1)\n",
      "Requirement already satisfied: Jinja2>=3.0 in /usr/local/lib/python3.7/dist-packages (from flask>=1.0.2->textworld->-r requirements.txt (line 5)) (3.0.1)\n",
      "Requirement already satisfied: itsdangerous>=2.0 in /usr/local/lib/python3.7/dist-packages (from flask>=1.0.2->textworld->-r requirements.txt (line 5)) (2.0.1)\n",
      "Requirement already satisfied: Werkzeug>=2.0 in /usr/local/lib/python3.7/dist-packages (from flask>=1.0.2->textworld->-r requirements.txt (line 5)) (2.0.1)\n",
      "Requirement already satisfied: importlib-metadata in /usr/local/lib/python3.7/dist-packages (from click>=7.1.2->flask>=1.0.2->textworld->-r requirements.txt (line 5)) (4.6.1)\n",
      "Requirement already satisfied: spacy>=2.1.0 in /usr/local/lib/python3.7/dist-packages (from jericho>=1.1.5->textworld->-r requirements.txt (line 5)) (2.2.4)\n",
      "Requirement already satisfied: MarkupSafe>=2.0 in /usr/local/lib/python3.7/dist-packages (from Jinja2>=3.0->flask>=1.0.2->textworld->-r requirements.txt (line 5)) (2.0.1)\n",
      "Requirement already satisfied: decorator<5,>=4.3 in /usr/local/lib/python3.7/dist-packages (from networkx>=2->textworld->-r requirements.txt (line 5)) (4.4.2)\n",
      "Requirement already satisfied: wcwidth in /usr/local/lib/python3.7/dist-packages (from prompt-toolkit<2.1.0,>=2.0.0->textworld->-r requirements.txt (line 5)) (0.2.5)\n",
      "Requirement already satisfied: PyMeta3>=0.5.1 in /usr/local/lib/python3.7/dist-packages (from pybars3>=0.9.3->textworld->-r requirements.txt (line 5)) (0.5.1)\n",
      "Requirement already satisfied: pyparsing>=2.1.4 in /usr/local/lib/python3.7/dist-packages (from pydot>=1.2.4->textworld->-r requirements.txt (line 5)) (2.4.7)\n",
      "Requirement already satisfied: srsly<1.1.0,>=1.0.2 in /usr/local/lib/python3.7/dist-packages (from spacy>=2.1.0->jericho>=1.1.5->textworld->-r requirements.txt (line 5)) (1.0.5)\n",
      "Requirement already satisfied: cymem<2.1.0,>=2.0.2 in /usr/local/lib/python3.7/dist-packages (from spacy>=2.1.0->jericho>=1.1.5->textworld->-r requirements.txt (line 5)) (2.0.5)\n",
      "Requirement already satisfied: preshed<3.1.0,>=3.0.2 in /usr/local/lib/python3.7/dist-packages (from spacy>=2.1.0->jericho>=1.1.5->textworld->-r requirements.txt (line 5)) (3.0.5)\n",
      "Requirement already satisfied: blis<0.5.0,>=0.4.0 in /usr/local/lib/python3.7/dist-packages (from spacy>=2.1.0->jericho>=1.1.5->textworld->-r requirements.txt (line 5)) (0.4.1)\n",
      "Requirement already satisfied: thinc==7.4.0 in /usr/local/lib/python3.7/dist-packages (from spacy>=2.1.0->jericho>=1.1.5->textworld->-r requirements.txt (line 5)) (7.4.0)\n",
      "Requirement already satisfied: murmurhash<1.1.0,>=0.28.0 in /usr/local/lib/python3.7/dist-packages (from spacy>=2.1.0->jericho>=1.1.5->textworld->-r requirements.txt (line 5)) (1.0.5)\n",
      "Requirement already satisfied: plac<1.2.0,>=0.9.6 in /usr/local/lib/python3.7/dist-packages (from spacy>=2.1.0->jericho>=1.1.5->textworld->-r requirements.txt (line 5)) (1.1.3)\n",
      "Requirement already satisfied: wasabi<1.1.0,>=0.4.0 in /usr/local/lib/python3.7/dist-packages (from spacy>=2.1.0->jericho>=1.1.5->textworld->-r requirements.txt (line 5)) (0.8.2)\n",
      "Requirement already satisfied: setuptools in /usr/lib/python3/dist-packages (from spacy>=2.1.0->jericho>=1.1.5->textworld->-r requirements.txt (line 5)) (40.8.0)\n",
      "Requirement already satisfied: catalogue<1.1.0,>=0.0.7 in /usr/local/lib/python3.7/dist-packages (from spacy>=2.1.0->jericho>=1.1.5->textworld->-r requirements.txt (line 5)) (1.0.0)\n",
      "Requirement already satisfied: zipp>=0.5 in /usr/local/lib/python3.7/dist-packages (from importlib-metadata->click>=7.1.2->flask>=1.0.2->textworld->-r requirements.txt (line 5)) (3.5.0)\n",
      "Requirement already satisfied: typing-extensions>=3.6.4 in /usr/local/lib/python3.7/dist-packages (from importlib-metadata->click>=7.1.2->flask>=1.0.2->textworld->-r requirements.txt (line 5)) (3.10.0.0)\n"
     ]
    },
    {
     "name": "stdout",
     "output_type": "stream",
     "text": [
      "Installing collected packages: websocket-client, docker\n",
      "Successfully installed docker-5.0.0 websocket-client-1.1.0\n",
      "\u001b[33mWARNING: Running pip as the 'root' user can result in broken permissions and conflicting behaviour with the system package manager. It is recommended to use a virtual environment instead: https://pip.pypa.io/warnings/venv\u001b[0m\n"
     ]
    }
   ],
   "source": [
    "!python3.7 -m pip install -r requirements.txt"
   ]
  },
  {
   "cell_type": "code",
   "execution_count": 5,
   "metadata": {},
   "outputs": [
    {
     "name": "stdout",
     "output_type": "stream",
     "text": [
      "Hello World!\n",
      "True\n"
     ]
    }
   ],
   "source": [
    "!python3.7 ./sample_submission_lstm-dqn/test.py"
   ]
  },
  {
   "cell_type": "code",
   "execution_count": 11,
   "metadata": {},
   "outputs": [
    {
     "name": "stdout",
     "output_type": "stream",
     "text": [
      "python: can't open file 'pip': [Errno 2] No such file or directory\r\n"
     ]
    }
   ],
   "source": []
  },
  {
   "cell_type": "code",
   "execution_count": 8,
   "metadata": {},
   "outputs": [
    {
     "name": "stdout",
     "output_type": "stream",
     "text": [
      "Extracting sample_submission_random.zip ...\n",
      "Running\n",
      "python3 /TextWorld/notebooks/UoMDiss/starting_k/ingestion.py /tmp/tmpw38_p4xa sample_games/ /tmp/tmpw38_p4xa/stats.json\n",
      "Traceback (most recent call last):\n",
      "  File \"/TextWorld/notebooks/UoMDiss/starting_k/ingestion.py\", line 4, in <module>\n",
      "    import docker\n",
      "ModuleNotFoundError: No module named 'docker'\n",
      "Traceback (most recent call last):\n",
      "  File \"test_submission.py\", line 66, in <module>\n",
      "    main()\n",
      "  File \"test_submission.py\", line 54, in main\n",
      "    with open(ingestion_out, 'r') as f:\n",
      "FileNotFoundError: [Errno 2] No such file or directory: '/tmp/tmpw38_p4xa/stats.json'\n"
     ]
    }
   ],
   "source": [
    "!python test_submission.py sample_submission_random.zip sample_games/"
   ]
  },
  {
   "cell_type": "code",
   "execution_count": null,
   "metadata": {},
   "outputs": [],
   "source": []
  }
 ],
 "metadata": {
  "kernelspec": {
   "display_name": "Python 3",
   "language": "python",
   "name": "python3"
  },
  "language_info": {
   "codemirror_mode": {
    "name": "ipython",
    "version": 3
   },
   "file_extension": ".py",
   "mimetype": "text/x-python",
   "name": "python",
   "nbconvert_exporter": "python",
   "pygments_lexer": "ipython3",
   "version": "3.8.2"
  }
 },
 "nbformat": 4,
 "nbformat_minor": 4
}
