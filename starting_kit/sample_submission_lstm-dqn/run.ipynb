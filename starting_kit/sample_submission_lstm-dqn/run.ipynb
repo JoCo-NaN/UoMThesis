{
 "cells": [
  {
   "cell_type": "code",
   "execution_count": 1,
   "metadata": {},
   "outputs": [
    {
     "name": "stdout",
     "output_type": "stream",
     "text": [
      "Collecting en-core-web-sm==3.0.0\n",
      "  Downloading https://github.com/explosion/spacy-models/releases/download/en_core_web_sm-3.0.0/en_core_web_sm-3.0.0-py3-none-any.whl (13.7 MB)\n",
      "\u001b[K     |████████████████████████████████| 13.7 MB 9.2 MB/s eta 0:00:01    |███████████▊                    | 5.0 MB 4.4 MB/s eta 0:00:02     |█████████████████████▉          | 9.4 MB 4.4 MB/s eta 0:00:01\n",
      "\u001b[?25hRequirement already satisfied: spacy<3.1.0,>=3.0.0 in /usr/local/lib/python3.8/site-packages (from en-core-web-sm==3.0.0) (3.0.6)\n",
      "Requirement already satisfied: catalogue<2.1.0,>=2.0.3 in /usr/local/lib/python3.8/site-packages (from spacy<3.1.0,>=3.0.0->en-core-web-sm==3.0.0) (2.0.4)\n",
      "Requirement already satisfied: murmurhash<1.1.0,>=0.28.0 in /usr/local/lib/python3.8/site-packages (from spacy<3.1.0,>=3.0.0->en-core-web-sm==3.0.0) (1.0.5)\n",
      "Requirement already satisfied: pathy>=0.3.5 in /usr/local/lib/python3.8/site-packages (from spacy<3.1.0,>=3.0.0->en-core-web-sm==3.0.0) (0.6.0)\n",
      "Requirement already satisfied: cymem<2.1.0,>=2.0.2 in /usr/local/lib/python3.8/site-packages (from spacy<3.1.0,>=3.0.0->en-core-web-sm==3.0.0) (2.0.5)\n",
      "Requirement already satisfied: preshed<3.1.0,>=3.0.2 in /usr/local/lib/python3.8/site-packages (from spacy<3.1.0,>=3.0.0->en-core-web-sm==3.0.0) (3.0.5)\n",
      "Requirement already satisfied: packaging>=20.0 in /usr/local/lib/python3.8/site-packages (from spacy<3.1.0,>=3.0.0->en-core-web-sm==3.0.0) (21.0)\n",
      "Requirement already satisfied: tqdm<5.0.0,>=4.38.0 in /usr/local/lib/python3.8/site-packages (from spacy<3.1.0,>=3.0.0->en-core-web-sm==3.0.0) (4.43.0)\n",
      "Requirement already satisfied: wasabi<1.1.0,>=0.8.1 in /usr/local/lib/python3.8/site-packages (from spacy<3.1.0,>=3.0.0->en-core-web-sm==3.0.0) (0.8.2)\n",
      "Requirement already satisfied: numpy>=1.15.0 in /usr/local/lib/python3.8/site-packages (from spacy<3.1.0,>=3.0.0->en-core-web-sm==3.0.0) (1.18.1)\n",
      "Requirement already satisfied: pydantic<1.8.0,>=1.7.1 in /usr/local/lib/python3.8/site-packages (from spacy<3.1.0,>=3.0.0->en-core-web-sm==3.0.0) (1.7.4)\n",
      "Requirement already satisfied: typer<0.4.0,>=0.3.0 in /usr/local/lib/python3.8/site-packages (from spacy<3.1.0,>=3.0.0->en-core-web-sm==3.0.0) (0.3.2)\n",
      "Requirement already satisfied: thinc<8.1.0,>=8.0.3 in /usr/local/lib/python3.8/site-packages (from spacy<3.1.0,>=3.0.0->en-core-web-sm==3.0.0) (8.0.7)\n",
      "Requirement already satisfied: jinja2 in /usr/local/lib/python3.8/site-packages (from spacy<3.1.0,>=3.0.0->en-core-web-sm==3.0.0) (2.11.1)\n",
      "Requirement already satisfied: setuptools in /usr/local/lib/python3.8/site-packages (from spacy<3.1.0,>=3.0.0->en-core-web-sm==3.0.0) (45.2.0)\n",
      "Requirement already satisfied: spacy-legacy<3.1.0,>=3.0.4 in /usr/local/lib/python3.8/site-packages (from spacy<3.1.0,>=3.0.0->en-core-web-sm==3.0.0) (3.0.6)\n",
      "Requirement already satisfied: blis<0.8.0,>=0.4.0 in /usr/local/lib/python3.8/site-packages (from spacy<3.1.0,>=3.0.0->en-core-web-sm==3.0.0) (0.7.4)\n",
      "Requirement already satisfied: srsly<3.0.0,>=2.4.1 in /usr/local/lib/python3.8/site-packages (from spacy<3.1.0,>=3.0.0->en-core-web-sm==3.0.0) (2.4.1)\n",
      "Requirement already satisfied: requests<3.0.0,>=2.13.0 in /usr/local/lib/python3.8/site-packages (from spacy<3.1.0,>=3.0.0->en-core-web-sm==3.0.0) (2.25.1)\n",
      "Requirement already satisfied: smart-open<6.0.0,>=5.0.0 in /usr/local/lib/python3.8/site-packages (from pathy>=0.3.5->spacy<3.1.0,>=3.0.0->en-core-web-sm==3.0.0) (5.1.0)\n",
      "Requirement already satisfied: pyparsing>=2.0.2 in /usr/local/lib/python3.8/site-packages (from packaging>=20.0->spacy<3.1.0,>=3.0.0->en-core-web-sm==3.0.0) (2.4.6)\n",
      "Requirement already satisfied: click<7.2.0,>=7.1.1 in /usr/local/lib/python3.8/site-packages (from typer<0.4.0,>=0.3.0->spacy<3.1.0,>=3.0.0->en-core-web-sm==3.0.0) (7.1.2)\n",
      "Requirement already satisfied: MarkupSafe>=0.23 in /usr/local/lib/python3.8/site-packages (from jinja2->spacy<3.1.0,>=3.0.0->en-core-web-sm==3.0.0) (1.1.1)\n",
      "Requirement already satisfied: chardet<5,>=3.0.2 in /usr/local/lib/python3.8/site-packages (from requests<3.0.0,>=2.13.0->spacy<3.1.0,>=3.0.0->en-core-web-sm==3.0.0) (4.0.0)\n",
      "Requirement already satisfied: certifi>=2017.4.17 in /usr/local/lib/python3.8/site-packages (from requests<3.0.0,>=2.13.0->spacy<3.1.0,>=3.0.0->en-core-web-sm==3.0.0) (2021.5.30)\n",
      "Requirement already satisfied: urllib3<1.27,>=1.21.1 in /usr/local/lib/python3.8/site-packages (from requests<3.0.0,>=2.13.0->spacy<3.1.0,>=3.0.0->en-core-web-sm==3.0.0) (1.25.8)\n",
      "Requirement already satisfied: idna<3,>=2.5 in /usr/local/lib/python3.8/site-packages (from requests<3.0.0,>=2.13.0->spacy<3.1.0,>=3.0.0->en-core-web-sm==3.0.0) (2.10)\n",
      "Installing collected packages: en-core-web-sm\n",
      "Successfully installed en-core-web-sm-3.0.0\n",
      "\u001b[33mWARNING: You are using pip version 20.0.2; however, version 21.1.3 is available.\n",
      "You should consider upgrading via the '/usr/local/bin/python -m pip install --upgrade pip' command.\u001b[0m\n",
      "\u001b[38;5;2m✔ Download and installation successful\u001b[0m\n",
      "You can now load the package via spacy.load('en_core_web_sm')\n"
     ]
    }
   ],
   "source": [
    "!python -m spacy download en_core_web_sm"
   ]
  },
  {
   "cell_type": "code",
   "execution_count": 2,
   "metadata": {},
   "outputs": [
    {
     "name": "stdout",
     "output_type": "stream",
     "text": [
      "Requirement already satisfied: gym in /usr/local/lib/python3.8/site-packages (from -r requirements.txt (line 1)) (0.17.0)\n",
      "Requirement already satisfied: tqdm in /usr/local/lib/python3.8/site-packages (from -r requirements.txt (line 2)) (4.43.0)\n",
      "Requirement already satisfied: numpy in /usr/local/lib/python3.8/site-packages (from -r requirements.txt (line 3)) (1.18.1)\n",
      "Collecting docker\n",
      "  Downloading docker-5.0.0-py2.py3-none-any.whl (146 kB)\n",
      "\u001b[K     |████████████████████████████████| 146 kB 6.8 MB/s eta 0:00:01\n",
      "\u001b[?25hRequirement already satisfied: textworld in /usr/local/lib/python3.8/site-packages (from -r requirements.txt (line 5)) (1.2.0)\n",
      "Requirement already satisfied: pyyaml in /usr/local/lib/python3.8/site-packages (from -r requirements.txt (line 6)) (5.3)\n",
      "Requirement already satisfied: torch in /usr/local/lib/python3.8/site-packages (from -r requirements.txt (line 7)) (1.9.0)\n",
      "Requirement already satisfied: six in /usr/local/lib/python3.8/site-packages (from gym->-r requirements.txt (line 1)) (1.14.0)\n",
      "Requirement already satisfied: pyglet<=1.5.0,>=1.4.0 in /usr/local/lib/python3.8/site-packages (from gym->-r requirements.txt (line 1)) (1.5.0)\n",
      "Requirement already satisfied: cloudpickle~=1.3.0 in /usr/local/lib/python3.8/site-packages (from gym->-r requirements.txt (line 1)) (1.3.0)\n",
      "Requirement already satisfied: scipy in /usr/local/lib/python3.8/site-packages (from gym->-r requirements.txt (line 1)) (1.4.1)\n",
      "Requirement already satisfied: requests!=2.18.0,>=2.14.2 in /usr/local/lib/python3.8/site-packages (from docker->-r requirements.txt (line 4)) (2.25.1)\n",
      "Collecting websocket-client>=0.32.0\n",
      "  Downloading websocket_client-1.1.0-py2.py3-none-any.whl (68 kB)\n",
      "\u001b[K     |████████████████████████████████| 68 kB 4.2 MB/s  eta 0:00:01\n",
      "\u001b[?25hRequirement already satisfied: mementos>=1.3.1 in /usr/local/lib/python3.8/site-packages (from textworld->-r requirements.txt (line 5)) (1.3.1)\n",
      "Requirement already satisfied: jericho>=2.2.0 in /usr/local/lib/python3.8/site-packages (from textworld->-r requirements.txt (line 5)) (2.4.2)\n",
      "Requirement already satisfied: cffi>=1.0.0 in /usr/local/lib/python3.8/site-packages (from textworld->-r requirements.txt (line 5)) (1.14.0)\n",
      "Requirement already satisfied: networkx>=2 in /usr/local/lib/python3.8/site-packages (from textworld->-r requirements.txt (line 5)) (2.4)\n",
      "Requirement already satisfied: hashids>=1.2.0 in /usr/local/lib/python3.8/site-packages (from textworld->-r requirements.txt (line 5)) (1.2.0)\n",
      "Requirement already satisfied: more-itertools in /usr/local/lib/python3.8/site-packages (from textworld->-r requirements.txt (line 5)) (8.2.0)\n",
      "Requirement already satisfied: tatsu>=4.3.0 in /usr/local/lib/python3.8/site-packages (from textworld->-r requirements.txt (line 5)) (5.5.0)\n",
      "Requirement already satisfied: prompt-toolkit in /usr/local/lib/python3.8/site-packages (from textworld->-r requirements.txt (line 5)) (3.0.3)\n",
      "Requirement already satisfied: typing-extensions in /usr/local/lib/python3.8/site-packages (from torch->-r requirements.txt (line 7)) (3.10.0.0)\n",
      "Requirement already satisfied: future in /usr/local/lib/python3.8/site-packages (from pyglet<=1.5.0,>=1.4.0->gym->-r requirements.txt (line 1)) (0.18.2)\n",
      "Requirement already satisfied: urllib3<1.27,>=1.21.1 in /usr/local/lib/python3.8/site-packages (from requests!=2.18.0,>=2.14.2->docker->-r requirements.txt (line 4)) (1.25.8)\n",
      "Requirement already satisfied: idna<3,>=2.5 in /usr/local/lib/python3.8/site-packages (from requests!=2.18.0,>=2.14.2->docker->-r requirements.txt (line 4)) (2.10)\n",
      "Requirement already satisfied: certifi>=2017.4.17 in /usr/local/lib/python3.8/site-packages (from requests!=2.18.0,>=2.14.2->docker->-r requirements.txt (line 4)) (2021.5.30)\n",
      "Requirement already satisfied: chardet<5,>=3.0.2 in /usr/local/lib/python3.8/site-packages (from requests!=2.18.0,>=2.14.2->docker->-r requirements.txt (line 4)) (4.0.0)\n",
      "Requirement already satisfied: pycparser in /usr/local/lib/python3.8/site-packages (from cffi>=1.0.0->textworld->-r requirements.txt (line 5)) (2.19)\n",
      "Requirement already satisfied: decorator>=4.3.0 in /usr/local/lib/python3.8/site-packages (from networkx>=2->textworld->-r requirements.txt (line 5)) (4.4.2)\n",
      "Requirement already satisfied: wcwidth in /usr/local/lib/python3.8/site-packages (from prompt-toolkit->textworld->-r requirements.txt (line 5)) (0.1.8)\n",
      "Installing collected packages: websocket-client, docker\n",
      "Successfully installed docker-5.0.0 websocket-client-1.1.0\n",
      "\u001b[33mWARNING: You are using pip version 20.0.2; however, version 21.1.3 is available.\n",
      "You should consider upgrading via the '/usr/local/bin/python -m pip install --upgrade pip' command.\u001b[0m\n"
     ]
    }
   ],
   "source": [
    "!pip3 install -r requirements.txt"
   ]
  },
  {
   "cell_type": "code",
   "execution_count": 3,
   "metadata": {},
   "outputs": [
    {
     "data": {
      "text/plain": [
       "True"
      ]
     },
     "execution_count": 3,
     "metadata": {},
     "output_type": "execute_result"
    }
   ],
   "source": [
    "import torch\n",
    "torch.cuda.is_available()"
   ]
  },
  {
   "cell_type": "code",
   "execution_count": 51,
   "metadata": {},
   "outputs": [],
   "source": [
    "noun_word_list, adj_word_list = [], []\n",
    "entitiess = ['plain door', 'patio door', 'wooden door', 'fridge', 'toolbox', 'oven', 'table', 'counter', 'shelf', 'patio chair', 'toilet', 'patio table', 'bed', 'sofa', 'workbench', 'stove', 'BBQ', 'red apple', 'red potato', 'meal', 'cookbook', 'knife', 'north', 'south', 'east', 'west']\n",
    "for entities in entitiess:\n",
    "    tmp_nouns, tmp_adjs = [], []\n",
    "    #print(entities)\n",
    "    #for name in entities:\n",
    "        #print(name)\n",
    "        #if(name == ' '): split = name \n",
    "        #else:\n",
    "    split = entities.split()\n",
    "        #print(\"TEST split\", split)\n",
    "        #print(\"split LEN\", len(split))\n",
    "        #print(\"NAME\", name)\n",
    "    tmp_nouns.append(split[-1])\n",
    "    if len(split) > 1:\n",
    "        tmp_adjs += split[:-1]\n",
    "    noun_word_list.append(list(set(tmp_nouns)))\n",
    "    adj_word_list.append(list(set(tmp_adjs)))"
   ]
  },
  {
   "cell_type": "code",
   "execution_count": 52,
   "metadata": {},
   "outputs": [
    {
     "data": {
      "text/plain": [
       "[['door'],\n",
       " ['door'],\n",
       " ['door'],\n",
       " ['fridge'],\n",
       " ['toolbox'],\n",
       " ['oven'],\n",
       " ['table'],\n",
       " ['counter'],\n",
       " ['shelf'],\n",
       " ['chair'],\n",
       " ['toilet'],\n",
       " ['table'],\n",
       " ['bed'],\n",
       " ['sofa'],\n",
       " ['workbench'],\n",
       " ['stove'],\n",
       " ['BBQ'],\n",
       " ['apple'],\n",
       " ['potato'],\n",
       " ['meal'],\n",
       " ['cookbook'],\n",
       " ['knife'],\n",
       " ['north'],\n",
       " ['south'],\n",
       " ['east'],\n",
       " ['west']]"
      ]
     },
     "execution_count": 52,
     "metadata": {},
     "output_type": "execute_result"
    }
   ],
   "source": [
    "noun_word_list"
   ]
  },
  {
   "cell_type": "code",
   "execution_count": 53,
   "metadata": {},
   "outputs": [
    {
     "data": {
      "text/plain": [
       "[['plain'],\n",
       " ['patio'],\n",
       " ['wooden'],\n",
       " [],\n",
       " [],\n",
       " [],\n",
       " [],\n",
       " [],\n",
       " [],\n",
       " ['patio'],\n",
       " [],\n",
       " ['patio'],\n",
       " [],\n",
       " [],\n",
       " [],\n",
       " [],\n",
       " [],\n",
       " ['red'],\n",
       " ['red'],\n",
       " [],\n",
       " [],\n",
       " [],\n",
       " [],\n",
       " [],\n",
       " [],\n",
       " []]"
      ]
     },
     "execution_count": 53,
     "metadata": {},
     "output_type": "execute_result"
    }
   ],
   "source": [
    "adj_word_list"
   ]
  },
  {
   "cell_type": "code",
   "execution_count": 26,
   "metadata": {},
   "outputs": [
    {
     "name": "stdout",
     "output_type": "stream",
     "text": [
      "1160 games found for training.\n",
      "  0%|                                                  | 0/1160 [00:00<?, ?it/s]R array: [array([[0.04746018, 0.03032136, 0.03847125, ..., 0.04518855, 0.04103078,\n",
      "        0.04039432],\n",
      "       [0.05021294, 0.02608496, 0.03719255, ..., 0.04757151, 0.0418643 ,\n",
      "        0.03299425],\n",
      "       [0.05113216, 0.01802602, 0.02501825, ..., 0.0430999 , 0.03955939,\n",
      "        0.03158645],\n",
      "       ...,\n",
      "       [0.0445342 , 0.02525607, 0.03564426, ..., 0.04599695, 0.0425817 ,\n",
      "        0.037764  ],\n",
      "       [0.05353243, 0.02099021, 0.03044966, ..., 0.04406187, 0.04683444,\n",
      "        0.02539666],\n",
      "       [0.05021214, 0.02490881, 0.03770409, ..., 0.04506173, 0.0432502 ,\n",
      "        0.0348961 ]], dtype=float32), array([[0.04167804, 0.02984869, 0.04902887, ..., 0.03620466, 0.03773264,\n",
      "        0.03864414],\n",
      "       [0.03548754, 0.02917672, 0.04388412, ..., 0.03840999, 0.0381932 ,\n",
      "        0.03945216],\n",
      "       [0.04383723, 0.02007866, 0.04862121, ..., 0.02869147, 0.03436031,\n",
      "        0.05094616],\n",
      "       ...,\n",
      "       [0.03003791, 0.02863768, 0.04483422, ..., 0.04260634, 0.04690133,\n",
      "        0.04282764],\n",
      "       [0.03992905, 0.02316921, 0.04876857, ..., 0.03283416, 0.03610224,\n",
      "        0.03902286],\n",
      "       [0.03820476, 0.02375351, 0.04453715, ..., 0.03835997, 0.03172114,\n",
      "        0.03738227]], dtype=float32), array([[0.03859997, 0.03527801, 0.03284278, ..., 0.0455361 , 0.03769875,\n",
      "        0.03121252],\n",
      "       [0.03978463, 0.04042278, 0.03577815, ..., 0.04742129, 0.0367815 ,\n",
      "        0.03523192],\n",
      "       [0.04204311, 0.04440819, 0.0453902 , ..., 0.04165309, 0.03501172,\n",
      "        0.04393213],\n",
      "       ...,\n",
      "       [0.04049867, 0.0448314 , 0.04067101, ..., 0.04963554, 0.03279648,\n",
      "        0.03127128],\n",
      "       [0.04065939, 0.04432358, 0.03675799, ..., 0.0402971 , 0.03305021,\n",
      "        0.03199818],\n",
      "       [0.04082108, 0.04138338, 0.03329061, ..., 0.04955298, 0.03949716,\n",
      "        0.0344633 ]], dtype=float32), array([[0.04292046, 0.04406554, 0.03720218, ..., 0.03293236, 0.05330545,\n",
      "        0.04257851],\n",
      "       [0.04817764, 0.03409911, 0.03373415, ..., 0.03228746, 0.03361192,\n",
      "        0.04084791],\n",
      "       [0.04967104, 0.03643158, 0.03811984, ..., 0.02914948, 0.04834592,\n",
      "        0.03799553],\n",
      "       ...,\n",
      "       [0.05091819, 0.03995439, 0.03717714, ..., 0.03369095, 0.03650114,\n",
      "        0.04705605],\n",
      "       [0.04722097, 0.03962971, 0.03471148, ..., 0.0313981 , 0.04062566,\n",
      "        0.03604423],\n",
      "       [0.04725434, 0.04503512, 0.03022025, ..., 0.03556314, 0.0394949 ,\n",
      "        0.035292  ]], dtype=float32), array([[0.04772404, 0.04283319, 0.05031059, ..., 0.03331794, 0.0437942 ,\n",
      "        0.0505467 ],\n",
      "       [0.05341008, 0.04374243, 0.04547561, ..., 0.04177462, 0.04247809,\n",
      "        0.04851072],\n",
      "       [0.04125532, 0.0451449 , 0.05299709, ..., 0.03601975, 0.04089923,\n",
      "        0.05393748],\n",
      "       ...,\n",
      "       [0.05616461, 0.0449069 , 0.04541166, ..., 0.03785991, 0.04476821,\n",
      "        0.04704196],\n",
      "       [0.05061491, 0.04748855, 0.05141877, ..., 0.03176399, 0.04229083,\n",
      "        0.05035148],\n",
      "       [0.05135725, 0.04534122, 0.05273406, ..., 0.0363636 , 0.03535817,\n",
      "        0.04804536]], dtype=float32)]\n",
      "M array: [array([[0., 0., 0., ..., 0., 0., 0.],\n",
      "       [0., 0., 0., ..., 0., 0., 0.],\n",
      "       [0., 0., 0., ..., 0., 0., 0.],\n",
      "       ...,\n",
      "       [0., 0., 0., ..., 0., 0., 0.],\n",
      "       [0., 0., 0., ..., 0., 0., 0.],\n",
      "       [0., 0., 0., ..., 0., 0., 0.]], dtype=float32), array([[0., 0., 1., ..., 0., 0., 0.],\n",
      "       [0., 0., 1., ..., 0., 0., 0.],\n",
      "       [0., 0., 1., ..., 0., 0., 0.],\n",
      "       ...,\n",
      "       [0., 0., 1., ..., 0., 0., 0.],\n",
      "       [0., 0., 1., ..., 0., 0., 0.],\n",
      "       [0., 0., 1., ..., 0., 0., 0.]], dtype=float32), array([[0., 0., 0., ..., 0., 0., 0.],\n",
      "       [0., 0., 0., ..., 0., 0., 0.],\n",
      "       [0., 0., 0., ..., 0., 0., 0.],\n",
      "       ...,\n",
      "       [0., 0., 0., ..., 0., 0., 0.],\n",
      "       [0., 0., 0., ..., 0., 0., 0.],\n",
      "       [0., 0., 0., ..., 0., 0., 0.]], dtype=float32), array([[0., 0., 1., ..., 0., 0., 0.],\n",
      "       [0., 0., 1., ..., 0., 0., 0.],\n",
      "       [0., 0., 1., ..., 0., 0., 0.],\n",
      "       ...,\n",
      "       [0., 0., 1., ..., 0., 0., 0.],\n",
      "       [0., 0., 1., ..., 0., 0., 0.],\n",
      "       [0., 0., 1., ..., 0., 0., 0.]], dtype=float32), array([[0., 0., 1., ..., 0., 0., 0.],\n",
      "       [0., 0., 1., ..., 0., 0., 0.],\n",
      "       [0., 0., 1., ..., 0., 0., 0.],\n",
      "       ...,\n",
      "       [0., 0., 1., ..., 0., 0., 0.],\n",
      "       [0., 0., 1., ..., 0., 0., 0.],\n",
      "       [0., 0., 1., ..., 0., 0., 0.]], dtype=float32)]\n",
      "  0%|                                                  | 0/1160 [00:07<?, ?it/s]\n",
      "Traceback (most recent call last):\n",
      "  File \"train.py\", line 88, in <module>\n",
      "    train(games)\n",
      "  File \"train.py\", line 60, in train\n",
      "    commands = agent.act(obs, scores, dones, infos)\n",
      "  File \"/TextWorld/notebooks/UoMDiss/starting_kit/sample_submission_lstm-dqn/custom_agent.py\", line 559, in act\n",
      "    _, word_indices_maxq = self.choose_maxQ_command(word_ranks, self.word_masks_np)\n",
      "  File \"/TextWorld/notebooks/UoMDiss/starting_kit/sample_submission_lstm-dqn/custom_agent.py\", line 455, in choose_maxQ_command\n",
      "    word_ranks_np = [r * m for r, m in zip(word_ranks_np, word_masks_np)]  # list of batch x n_vocab\n",
      "  File \"/TextWorld/notebooks/UoMDiss/starting_kit/sample_submission_lstm-dqn/custom_agent.py\", line 455, in <listcomp>\n",
      "    word_ranks_np = [r * m for r, m in zip(word_ranks_np, word_masks_np)]  # list of batch x n_vocab\n",
      "ValueError: operands could not be broadcast together with shapes (65,20200) (19,20200) \n"
     ]
    }
   ],
   "source": [
    "!python train.py train/*recipe1*.ulx"
   ]
  },
  {
   "cell_type": "code",
   "execution_count": 23,
   "metadata": {},
   "outputs": [
    {
     "name": "stdout",
     "output_type": "stream",
     "text": [
      "Entities: ['fridge', 'oven', 'table', 'counter', 'stove', 'red hot pepper', 'red apple', 'pork chop', 'cilantro', 'black pepper', 'meal', 'cookbook', 'knife', 'north', 'south', 'east', 'west']\n",
      "Admissible commands:\n",
      "  close fridge\n",
      "  examine black pepper\n",
      "  examine cilantro\n",
      "  examine cookbook\n",
      "  examine counter\n",
      "  examine fridge\n",
      "  examine knife\n",
      "  examine oven\n",
      "  examine pork chop\n",
      "  examine red apple\n",
      "  examine red hot pepper\n",
      "  examine stove\n",
      "  examine table\n",
      "  look\n",
      "  take black pepper from counter\n",
      "  take cilantro from fridge\n",
      "  take cookbook from table\n",
      "  take knife from table\n",
      "  take pork chop from fridge\n",
      "  take red apple from counter\n",
      "  take red hot pepper from counter\n",
      "Description: -= Kitchen =-\n",
      "You're now in a kitchen. You start to take note of what's in the room.\n",
      "\n",
      "You can make out an opened conventional looking fridge right there by you. The fridge contains a raw pork chop and a cilantro. You can see a closed oven. You lean against the wall, inadvertently pressing a secret button. The wall opens up to reveal a table. On the table you can make out a cookbook and a knife. You can make out a counter. The counter is vast. On the counter you can make out a sliced fried red hot pepper, a red apple and a black pepper. You smell an intriguing smell, and follow it to a stove. You shudder, but continue examining the stove. But the thing is empty, unfortunately. Hm. Oh well\n",
      "Inventory: You are carrying nothing.\n",
      "Wlkthru: ['inventory', 'examine cookbook', 'take red hot pepper from counter', 'prepare meal', 'eat meal']\n",
      "Recipe: You open the copy of 'Cooking: A Modern Approach (3rd Ed.)' and start reading:\n",
      "\n",
      "Recipe #1\n",
      "---------\n",
      "Gather all following ingredients and follow the directions to prepare this tasty meal.\n",
      "\n",
      "Ingredients:\n",
      "  red hot pepper\n",
      "\n",
      "Directions:\n",
      "  slice the red hot pepper\n",
      "  fry the red hot pepper\n",
      "  prepare meal\n",
      "\n",
      "All Information: {'admissible_commands': ['close fridge', 'examine black pepper', 'examine cilantro', 'examine cookbook', 'examine counter', 'examine fridge', 'examine knife', 'examine oven', 'examine pork chop', 'examine red apple', 'examine red hot pepper', 'examine stove', 'examine table', 'look', 'take black pepper from counter', 'take cilantro from fridge', 'take cookbook from table', 'take knife from table', 'take pork chop from fridge', 'take red apple from counter', 'take red hot pepper from counter'], 'extra.goal': \"You open the copy of 'Cooking: A Modern Approach (3rd Ed.)' and start reading:\\n\\nRecipe #1\\n---------\\nGather all following ingredients and follow the directions to prepare this tasty meal.\\n\\nIngredients:\\n  red hot pepper\\n\\nDirections:\\n  slice the red hot pepper\\n  fry the red hot pepper\\n  prepare meal\\n\", 'inventory': 'You are carrying nothing.', 'description': \"-= Kitchen =-\\nYou're now in a kitchen. You start to take note of what's in the room.\\n\\nYou can make out an opened conventional looking fridge right there by you. The fridge contains a raw pork chop and a cilantro. You can see a closed oven. You lean against the wall, inadvertently pressing a secret button. The wall opens up to reveal a table. On the table you can make out a cookbook and a knife. You can make out a counter. The counter is vast. On the counter you can make out a sliced fried red hot pepper, a red apple and a black pepper. You smell an intriguing smell, and follow it to a stove. You shudder, but continue examining the stove. But the thing is empty, unfortunately. Hm. Oh well\", 'extra.walkthrough': ['inventory', 'examine cookbook', 'take red hot pepper from counter', 'prepare meal', 'eat meal'], 'entities': ['fridge', 'oven', 'table', 'counter', 'stove', 'red hot pepper', 'red apple', 'pork chop', 'cilantro', 'black pepper', 'meal', 'cookbook', 'knife', 'north', 'south', 'east', 'west']}\n"
     ]
    }
   ],
   "source": [
    "import textworld.gym\n",
    "#env_id = textworld.gym.register_game('train/tw-cooking-recipe1+cook+cut+drop+go6-01JRHqXVsRPskKe.ulx')\n",
    "import gym\n",
    "\n",
    "request_infos = textworld.EnvInfos(admissible_commands=True, entities=True, description=True, inventory=True, extras=[\"walkthrough\", \"goal\"])\n",
    "# Requesting additional information should be done when registering the game.\n",
    "#env_id = textworld.gym.register_game('train/tw-cooking-recipe1+cook+cut+drop+go6-01JRHqXVsRPskKe.ulx', request_infos)\n",
    "env_id = textworld.gym.register_game('train/tw-cooking-recipe1+take1-11Oeig8bSVdGSp78.ulx', request_infos)  \n",
    "#env_id = textworld.gym.register_game('valid/tw-cooking-recipe1+cook+cut+drop+go6-M2qEFeOXcol3H1ql.ulx', request_infos)\n",
    "env = gym.make(env_id)\n",
    "\n",
    "obs, infos = env.reset()\n",
    "print(\"Entities: {}\".format(infos[\"entities\"]))\n",
    "print(\"Admissible commands:\\n  {}\".format(\"\\n  \".join(infos[\"admissible_commands\"])))\n",
    "print(\"Description: {}\".format(infos[\"description\"]))\n",
    "print(\"Inventory: {}\".format(infos[\"inventory\"]))\n",
    "print(\"Wlkthru: {}\".format(infos[\"extra.walkthrough\"]))\n",
    "print(\"Recipe: {}\".format(infos[\"extra.goal\"]))\n",
    "print(\"All Information: {}\".format(infos))"
   ]
  },
  {
   "cell_type": "code",
   "execution_count": 40,
   "metadata": {},
   "outputs": [
    {
     "name": "stdout",
     "output_type": "stream",
     "text": [
      "Entities: ['fridge', 'oven', 'table', 'counter', 'stove', 'red hot pepper', 'red apple', 'yellow bell pepper', 'meal', 'cookbook', 'knife', 'north', 'south', 'east', 'west']\n",
      "Admissible commands:\n",
      "  close fridge\n",
      "  examine cookbook\n",
      "  examine counter\n",
      "  examine fridge\n",
      "  examine knife\n",
      "  examine oven\n",
      "  examine red apple\n",
      "  examine red hot pepper\n",
      "  examine stove\n",
      "  examine table\n",
      "  examine yellow bell pepper\n",
      "  look\n",
      "  take cookbook from table\n",
      "  take knife from counter\n",
      "  take red apple from counter\n",
      "  take red hot pepper from counter\n",
      "  take yellow bell pepper from counter\n",
      "Description: -= Kitchen =-\n",
      "You're now in the kitchen. I guess you better just go and list everything you see here.\n",
      "\n",
      "You hear a noise behind you and spin around, but you can't see anything other than a fridge. The fridge is empty! This is the worst thing that could possibly happen, ever! You see a closed oven. You make out a table. The table is massive. On the table you can make out a cookbook. You can make out a counter. The counter is vast. On the counter you can make out a sliced fried red hot pepper, a red apple, a yellow bell pepper and a knife. You smell an intriguing smell, and follow it to a stove. You shudder, but continue examining the stove. But the thing is empty, unfortunately. Hm. Oh well\n",
      "Inventory: You are carrying nothing.\n",
      "Wlkthru: ['take red hot pepper from counter', 'prepare meal', 'eat meal']\n",
      "Recipe: None\n",
      "All Information: {'admissible_commands': ['close fridge', 'examine cookbook', 'examine counter', 'examine fridge', 'examine knife', 'examine oven', 'examine red apple', 'examine red hot pepper', 'examine stove', 'examine table', 'examine yellow bell pepper', 'look', 'take cookbook from table', 'take knife from counter', 'take red apple from counter', 'take red hot pepper from counter', 'take yellow bell pepper from counter'], 'entities': ['fridge', 'oven', 'table', 'counter', 'stove', 'red hot pepper', 'red apple', 'yellow bell pepper', 'meal', 'cookbook', 'knife', 'north', 'south', 'east', 'west'], 'extra.recipe': None, 'extra.walkthrough': ['take red hot pepper from counter', 'prepare meal', 'eat meal'], 'description': \"-= Kitchen =-\\nYou're now in the kitchen. I guess you better just go and list everything you see here.\\n\\nYou hear a noise behind you and spin around, but you can't see anything other than a fridge. The fridge is empty! This is the worst thing that could possibly happen, ever! You see a closed oven. You make out a table. The table is massive. On the table you can make out a cookbook. You can make out a counter. The counter is vast. On the counter you can make out a sliced fried red hot pepper, a red apple, a yellow bell pepper and a knife. You smell an intriguing smell, and follow it to a stove. You shudder, but continue examining the stove. But the thing is empty, unfortunately. Hm. Oh well\", 'inventory': 'You are carrying nothing.'}\n"
     ]
    }
   ],
   "source": []
  },
  {
   "cell_type": "code",
   "execution_count": 11,
   "metadata": {},
   "outputs": [
    {
     "name": "stdout",
     "output_type": "stream",
     "text": [
      "Python 3.7.3\r\n"
     ]
    }
   ],
   "source": [
    "!python3.7 --version"
   ]
  },
  {
   "cell_type": "code",
   "execution_count": 15,
   "metadata": {},
   "outputs": [
    {
     "name": "stdout",
     "output_type": "stream",
     "text": [
      "Name: textworld\n",
      "Version: 1.2.0\n",
      "Summary: Microsoft Textworld - A Text-based Learning Environment.\n",
      "Home-page: UNKNOWN\n",
      "Author: \n",
      "Author-email: None\n",
      "License: UNKNOWN\n",
      "Location: /usr/local/lib/python3.8/site-packages\n",
      "Requires: pyyaml, prompt-toolkit, hashids, tatsu, tqdm, numpy, gym, more-itertools, mementos, urwid, jericho, cffi, networkx\n",
      "Required-by: \n"
     ]
    }
   ],
   "source": [
    "!pip show textworld"
   ]
  },
  {
   "cell_type": "code",
   "execution_count": null,
   "metadata": {},
   "outputs": [],
   "source": []
  }
 ],
 "metadata": {
  "kernelspec": {
   "display_name": "Python 3",
   "language": "python",
   "name": "python3"
  },
  "language_info": {
   "codemirror_mode": {
    "name": "ipython",
    "version": 3
   },
   "file_extension": ".py",
   "mimetype": "text/x-python",
   "name": "python",
   "nbconvert_exporter": "python",
   "pygments_lexer": "ipython3",
   "version": "3.8.2"
  }
 },
 "nbformat": 4,
 "nbformat_minor": 4
}
