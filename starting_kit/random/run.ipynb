{
 "cells": [
  {
   "cell_type": "code",
   "execution_count": 1,
   "metadata": {},
   "outputs": [
    {
     "name": "stdout",
     "output_type": "stream",
     "text": [
      "Requirement already satisfied: gym in /usr/local/lib/python3.8/site-packages (from -r requirements.txt (line 1)) (0.17.0)\n",
      "Requirement already satisfied: tqdm in /usr/local/lib/python3.8/site-packages (from -r requirements.txt (line 2)) (4.43.0)\n",
      "Requirement already satisfied: numpy in /usr/local/lib/python3.8/site-packages (from -r requirements.txt (line 3)) (1.18.1)\n",
      "Requirement already satisfied: docker in /usr/local/lib/python3.8/site-packages (from -r requirements.txt (line 4)) (5.0.0)\n",
      "Requirement already satisfied: textworld in /usr/local/lib/python3.8/site-packages (from -r requirements.txt (line 5)) (1.2.0)\n",
      "Requirement already satisfied: six in /usr/local/lib/python3.8/site-packages (from gym->-r requirements.txt (line 1)) (1.14.0)\n",
      "Requirement already satisfied: cloudpickle~=1.3.0 in /usr/local/lib/python3.8/site-packages (from gym->-r requirements.txt (line 1)) (1.3.0)\n",
      "Requirement already satisfied: scipy in /usr/local/lib/python3.8/site-packages (from gym->-r requirements.txt (line 1)) (1.4.1)\n",
      "Requirement already satisfied: pyglet<=1.5.0,>=1.4.0 in /usr/local/lib/python3.8/site-packages (from gym->-r requirements.txt (line 1)) (1.5.0)\n",
      "Requirement already satisfied: websocket-client>=0.32.0 in /usr/local/lib/python3.8/site-packages (from docker->-r requirements.txt (line 4)) (1.1.0)\n",
      "Requirement already satisfied: requests!=2.18.0,>=2.14.2 in /usr/local/lib/python3.8/site-packages (from docker->-r requirements.txt (line 4)) (2.25.1)\n",
      "Requirement already satisfied: prompt-toolkit in /usr/local/lib/python3.8/site-packages (from textworld->-r requirements.txt (line 5)) (3.0.3)\n",
      "Requirement already satisfied: more-itertools in /usr/local/lib/python3.8/site-packages (from textworld->-r requirements.txt (line 5)) (8.2.0)\n",
      "Requirement already satisfied: networkx>=2 in /usr/local/lib/python3.8/site-packages (from textworld->-r requirements.txt (line 5)) (2.4)\n",
      "Requirement already satisfied: tatsu>=4.3.0 in /usr/local/lib/python3.8/site-packages (from textworld->-r requirements.txt (line 5)) (5.5.0)\n",
      "Requirement already satisfied: pyyaml>=3.12 in /usr/local/lib/python3.8/site-packages (from textworld->-r requirements.txt (line 5)) (5.3)\n",
      "Requirement already satisfied: hashids>=1.2.0 in /usr/local/lib/python3.8/site-packages (from textworld->-r requirements.txt (line 5)) (1.2.0)\n",
      "Requirement already satisfied: jericho>=2.2.0 in /usr/local/lib/python3.8/site-packages (from textworld->-r requirements.txt (line 5)) (2.4.2)\n",
      "Requirement already satisfied: cffi>=1.0.0 in /usr/local/lib/python3.8/site-packages (from textworld->-r requirements.txt (line 5)) (1.14.0)\n",
      "Requirement already satisfied: mementos>=1.3.1 in /usr/local/lib/python3.8/site-packages (from textworld->-r requirements.txt (line 5)) (1.3.1)\n",
      "Requirement already satisfied: future in /usr/local/lib/python3.8/site-packages (from pyglet<=1.5.0,>=1.4.0->gym->-r requirements.txt (line 1)) (0.18.2)\n",
      "Requirement already satisfied: urllib3<1.27,>=1.21.1 in /usr/local/lib/python3.8/site-packages (from requests!=2.18.0,>=2.14.2->docker->-r requirements.txt (line 4)) (1.25.8)\n",
      "Requirement already satisfied: certifi>=2017.4.17 in /usr/local/lib/python3.8/site-packages (from requests!=2.18.0,>=2.14.2->docker->-r requirements.txt (line 4)) (2021.5.30)\n",
      "Requirement already satisfied: idna<3,>=2.5 in /usr/local/lib/python3.8/site-packages (from requests!=2.18.0,>=2.14.2->docker->-r requirements.txt (line 4)) (2.10)\n",
      "Requirement already satisfied: chardet<5,>=3.0.2 in /usr/local/lib/python3.8/site-packages (from requests!=2.18.0,>=2.14.2->docker->-r requirements.txt (line 4)) (4.0.0)\n",
      "Requirement already satisfied: wcwidth in /usr/local/lib/python3.8/site-packages (from prompt-toolkit->textworld->-r requirements.txt (line 5)) (0.1.8)\n",
      "Requirement already satisfied: decorator>=4.3.0 in /usr/local/lib/python3.8/site-packages (from networkx>=2->textworld->-r requirements.txt (line 5)) (4.4.2)\n",
      "Requirement already satisfied: pycparser in /usr/local/lib/python3.8/site-packages (from cffi>=1.0.0->textworld->-r requirements.txt (line 5)) (2.19)\n",
      "\u001b[33mWARNING: You are using pip version 20.0.2; however, version 21.1.3 is available.\n",
      "You should consider upgrading via the '/usr/local/bin/python -m pip install --upgrade pip' command.\u001b[0m\n"
     ]
    }
   ],
   "source": [
    "!pip3 install -r requirements.txt"
   ]
  },
  {
   "cell_type": "code",
   "execution_count": null,
   "metadata": {},
   "outputs": [],
   "source": []
  }
 ],
 "metadata": {
  "kernelspec": {
   "display_name": "Python 3",
   "language": "python",
   "name": "python3"
  },
  "language_info": {
   "codemirror_mode": {
    "name": "ipython",
    "version": 3
   },
   "file_extension": ".py",
   "mimetype": "text/x-python",
   "name": "python",
   "nbconvert_exporter": "python",
   "pygments_lexer": "ipython3",
   "version": "3.8.2"
  }
 },
 "nbformat": 4,
 "nbformat_minor": 4
}
